{
 "cells": [
  {
   "cell_type": "code",
   "execution_count": null,
   "metadata": {},
   "outputs": [],
   "source": [
    "from PIL import Image, ImageChops\n",
    "import json\n",
    "from numpy import asarray\n",
    "\n",
    "import json\n",
    "\n",
    "with open('input.json') as f:\n",
    "      jason_data = json.load(f)\n",
    "\n",
    "print(jason_data)\n",
    "list1 = []\n",
    "for i in range(5):\n",
    "    s1=(\"./wafer_image_\"+str((i+1))+\".png\")\n",
    "    img =   asarray(Image.open(s1).convert('LA'))\n",
    "    list1.append([img])\n",
    "s1=(\"./wafer_image_\"+str((i+1))+\".png\")\n",
    "img = asarray(Image.open(s1).convert('LA'))\n",
    "row = len(img)\n",
    "col = len(img[0])\n",
    "res = []\n",
    "\n",
    "for i in range(4):\n",
    "    for j in range(row):\n",
    "        for k in range(col):\n",
    "            equal = 0\n",
    "            not_equal = 0\n",
    "            l=i+1\n",
    "            for l in range(4):\n",
    "               # print(list1[i + l + 1][j][k] - list1[i + l + 1][j][k])\n",
    "                # print(list1[i][0][j][k][1])\n",
    "                # print(\"t2\", list1[i + l + 1][0][j][k][1])\n",
    "                if (list1[i][0][j][k][0] != list1[i + l + 1][0][j][k][0]) or (list1[i][0][j][k][1] != list1[i + l + 1][0][j][k][1]):\n",
    "                    # print(\"ano\")\n",
    "                    not_equal += 1\n",
    "                else:\n",
    "                    # print(\"check\")\n",
    "                    equal += 1\n",
    "            # print(not_equal, \"---\", equal)        \n",
    "            if(not_equal > equal):\n",
    "                # print('hello')\n",
    "                res.append([j , k , i + 1])\n",
    "print(res)"
   ]
  },
  {
   "cell_type": "code",
   "execution_count": null,
   "metadata": {},
   "outputs": [],
   "source": []
  },
  {
   "cell_type": "code",
   "execution_count": null,
   "metadata": {},
   "outputs": [],
   "source": []
  }
 ],
 "metadata": {
  "kernelspec": {
   "display_name": "Python 3",
   "language": "python",
   "name": "python3"
  },
  "language_info": {
   "codemirror_mode": {
    "name": "ipython",
    "version": 3
   },
   "file_extension": ".py",
   "mimetype": "text/x-python",
   "name": "python",
   "nbconvert_exporter": "python",
   "pygments_lexer": "ipython3",
   "version": "3.8.3"
  }
 },
 "nbformat": 4,
 "nbformat_minor": 4
}
