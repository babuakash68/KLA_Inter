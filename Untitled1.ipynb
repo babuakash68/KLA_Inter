{
 "cells": [
  {
   "cell_type": "code",
   "execution_count": 57,
   "metadata": {},
   "outputs": [
    {
     "name": "stdout",
     "output_type": "stream",
     "text": [
      "float32\n",
      "(600, 800, 3)\n"
     ]
    },
    {
     "data": {
      "image/png": "[encoded data removed]",
      "text/plain": [
       "<Figure size 432x288 with 1 Axes>"
      ]
     },
     "metadata": {
      "needs_background": "light"
     },
     "output_type": "display_data"
    }
   ],
   "source": [
    "from matplotlib import image\n",
    "from matplotlib import pyplot\n",
    "image = image.imread('wafer_image_1.png')\n",
    "print(image.dtype)\n",
    "print(image.shape)\n",
    "pyplot.imshow(image)\n",
    "pyplot.show()"
   ]
  },
  {
   "cell_type": "code",
   "execution_count": 58,
   "metadata": {},
   "outputs": [
    {
     "name": "stdout",
     "output_type": "stream",
     "text": [
      "{'die': {'width': 800, 'height': 600, 'rows': 1, 'columns': 5}, 'street_width': 0, 'care_areas': [{'top_left': {'x': 0, 'y': 600}, 'bottom_right': {'x': 800, 'y': 0}}], 'exclusion_zones': []}\n"
     ]
    }
   ],
   "source": [
    "\n",
    "import json\n",
    "\n",
    "with open('input.json') as f:\n",
    "      jason_data = json.load(f)\n",
    "\n",
    "print(jason_data)"
   ]
  },
  {
   "cell_type": "code",
   "execution_count": 59,
   "metadata": {},
   "outputs": [
    {
     "name": "stdout",
     "output_type": "stream",
     "text": [
      "<class 'numpy.ndarray'>\n",
      "(600, 800)\n",
      "<class 'PIL.Image.Image'>\n",
      "L\n",
      "(800, 600)\n",
      "[[255 252 255 ... 255 255 255]\n",
      " [126 130 129 ... 128 128 128]\n",
      " [130 125 129 ... 128 128 128]\n",
      " ...\n",
      " [128 128 128 ... 128 128 128]\n",
      " [128 128 128 ... 128 128 128]\n",
      " [128 128 128 ... 128 128 128]]\n"
     ]
    }
   ],
   "source": [
    "import cv2\n",
    "image = cv2.imread('wafer_image_1.png')\n",
    "image_gray = cv2.cvtColor(image, cv2.COLOR_BGR2GRAY)\n",
    "cv2.imwrite('C:/Users/Akash/Desktop/KLA_PPO/img_1_gray.jpg', image_gray)\n",
    "from PIL import Image\n",
    "from numpy import asarray\n",
    "\n",
    "image = Image.open('img_1_gray.jpg')\n",
    "data_1 = asarray(image)\n",
    "print(type(data))\n",
    "print(data.shape)\n",
    "\n",
    "image2 = Image.fromarray(data)\n",
    "print(type(image2))\n",
    "print(image2.mode)\n",
    "print(image2.size)\n",
    "print(data)"
   ]
  },
  {
   "cell_type": "code",
   "execution_count": 60,
   "metadata": {},
   "outputs": [
    {
     "name": "stdout",
     "output_type": "stream",
     "text": [
      "<class 'numpy.ndarray'>\n",
      "(600, 800)\n",
      "<class 'PIL.Image.Image'>\n",
      "L\n",
      "(800, 600)\n",
      "[[255 252 255 ... 255 255 255]\n",
      " [126 130 129 ... 128 128 128]\n",
      " [130 125 129 ... 128 128 128]\n",
      " ...\n",
      " [128 128 128 ... 128 128 128]\n",
      " [128 128 128 ... 128 128 128]\n",
      " [128 128 128 ... 128 128 128]]\n"
     ]
    }
   ],
   "source": [
    "import cv2\n",
    "image = cv2.imread('wafer_image_2.png')\n",
    "image_gray = cv2.cvtColor(image, cv2.COLOR_BGR2GRAY)\n",
    "cv2.imwrite('C:/Users/Akash/Desktop/KLA_PPO/img_2_gray.jpg', image_gray)\n",
    "from PIL import Image\n",
    "from numpy import asarray\n",
    "\n",
    "image = Image.open('img_2_gray.jpg')\n",
    "data_2 = asarray(image)\n",
    "print(type(data))\n",
    "print(data.shape)\n",
    "\n",
    "image2 = Image.fromarray(data)\n",
    "print(type(image2))\n",
    "print(image2.mode)\n",
    "print(image2.size)\n",
    "print(data)"
   ]
  },
  {
   "cell_type": "code",
   "execution_count": 61,
   "metadata": {},
   "outputs": [
    {
     "name": "stdout",
     "output_type": "stream",
     "text": [
      "<class 'numpy.ndarray'>\n",
      "(600, 800)\n",
      "<class 'PIL.Image.Image'>\n",
      "L\n",
      "(800, 600)\n",
      "[[255 252 255 ... 255 255 255]\n",
      " [126 130 129 ... 128 128 128]\n",
      " [130 125 129 ... 128 128 128]\n",
      " ...\n",
      " [128 128 128 ... 128 128 128]\n",
      " [128 128 128 ... 128 128 128]\n",
      " [128 128 128 ... 128 128 128]]\n"
     ]
    }
   ],
   "source": [
    "import cv2\n",
    "image = cv2.imread('wafer_image_3.png')\n",
    "image_gray = cv2.cvtColor(image, cv2.COLOR_BGR2GRAY)\n",
    "cv2.imwrite('C:/Users/Akash/Desktop/KLA_PPO/img_3_gray.jpg', image_gray)\n",
    "from PIL import Image\n",
    "from numpy import asarray\n",
    "\n",
    "image = Image.open('img_3_gray.jpg')\n",
    "data_3 = asarray(image)\n",
    "print(type(data))\n",
    "print(data.shape)\n",
    "\n",
    "image2 = Image.fromarray(data)\n",
    "print(type(image2))\n",
    "print(image2.mode)\n",
    "print(image2.size)\n",
    "print(data)"
   ]
  },
  {
   "cell_type": "code",
   "execution_count": null,
   "metadata": {},
   "outputs": [],
   "source": []
  },
  {
   "cell_type": "code",
   "execution_count": 62,
   "metadata": {},
   "outputs": [
    {
     "name": "stdout",
     "output_type": "stream",
     "text": [
      "<class 'numpy.ndarray'>\n",
      "(600, 800)\n",
      "<class 'PIL.Image.Image'>\n",
      "L\n",
      "(800, 600)\n",
      "[[255 252 255 ... 255 255 255]\n",
      " [126 130 129 ... 128 128 128]\n",
      " [130 125 129 ... 128 128 128]\n",
      " ...\n",
      " [128 128 128 ... 128 128 128]\n",
      " [128 128 128 ... 128 128 128]\n",
      " [128 128 128 ... 128 128 128]]\n"
     ]
    }
   ],
   "source": [
    "import cv2\n",
    "image = cv2.imread('wafer_image_4.png')\n",
    "image_gray = cv2.cvtColor(image, cv2.COLOR_BGR2GRAY)\n",
    "cv2.imwrite('C:/Users/Akash/Desktop/KLA_PPO/img_4_gray.jpg', image_gray)\n",
    "from PIL import Image\n",
    "from numpy import asarray\n",
    "\n",
    "image = Image.open('img_4_gray.jpg')\n",
    "data_4 = asarray(image)\n",
    "print(type(data))\n",
    "print(data.shape)\n",
    "\n",
    "image2 = Image.fromarray(data)\n",
    "print(type(image2))\n",
    "print(image2.mode)\n",
    "print(image2.size)\n",
    "print(data)"
   ]
  },
  {
   "cell_type": "code",
   "execution_count": 63,
   "metadata": {},
   "outputs": [
    {
     "name": "stdout",
     "output_type": "stream",
     "text": [
      "<class 'numpy.ndarray'>\n",
      "(600, 800)\n",
      "<class 'PIL.Image.Image'>\n",
      "L\n",
      "(800, 600)\n",
      "[[255 252 255 ... 255 255 255]\n",
      " [126 130 129 ... 128 128 128]\n",
      " [130 125 129 ... 128 128 128]\n",
      " ...\n",
      " [128 128 128 ... 128 128 128]\n",
      " [128 128 128 ... 128 128 128]\n",
      " [128 128 128 ... 128 128 128]]\n"
     ]
    }
   ],
   "source": [
    "import cv2\n",
    "image = cv2.imread('wafer_image_5.png')\n",
    "image_gray = cv2.cvtColor(image, cv2.COLOR_BGR2GRAY)\n",
    "cv2.imwrite('C:/Users/Akash/Desktop/KLA_PPO/img_5_gray.jpg', image_gray)\n",
    "from PIL import Image\n",
    "from numpy import asarray\n",
    "\n",
    "image = Image.open('img_5_gray.jpg')\n",
    "data_5 = asarray(image)\n",
    "print(type(data))\n",
    "print(data.shape)\n",
    "\n",
    "image2 = Image.fromarray(data)\n",
    "print(type(image2))\n",
    "print(image2.mode)\n",
    "print(image2.size)\n",
    "print(data)"
   ]
  },
  {
   "cell_type": "code",
   "execution_count": 94,
   "metadata": {},
   "outputs": [
    {
     "ename": "NameError",
     "evalue": "name 'aresame' is not defined",
     "output_type": "error",
     "traceback": [
      "\u001b[1;31m---------------------------------------------------------------------------\u001b[0m",
      "\u001b[1;31mNameError\u001b[0m                                 Traceback (most recent call last)",
      "\u001b[1;32m<ipython-input-94-d32524b432ef>\u001b[0m in \u001b[0;36m<module>\u001b[1;34m\u001b[0m\n\u001b[0;32m      6\u001b[0m \u001b[1;32mfor\u001b[0m \u001b[0mi\u001b[0m \u001b[1;32min\u001b[0m \u001b[0mrange\u001b[0m \u001b[1;33m(\u001b[0m\u001b[0mrow\u001b[0m\u001b[1;33m)\u001b[0m\u001b[1;33m:\u001b[0m\u001b[1;33m\u001b[0m\u001b[1;33m\u001b[0m\u001b[0m\n\u001b[0;32m      7\u001b[0m     \u001b[1;32mfor\u001b[0m \u001b[0mj\u001b[0m \u001b[1;32min\u001b[0m \u001b[0mrange\u001b[0m\u001b[1;33m(\u001b[0m\u001b[0mcol\u001b[0m\u001b[1;33m)\u001b[0m\u001b[1;33m:\u001b[0m\u001b[1;33m\u001b[0m\u001b[1;33m\u001b[0m\u001b[0m\n\u001b[1;32m----> 8\u001b[1;33m         \u001b[1;32mif\u001b[0m\u001b[1;33m(\u001b[0m\u001b[0maresame\u001b[0m\u001b[1;33m(\u001b[0m\u001b[0mdata_1\u001b[0m\u001b[1;33m[\u001b[0m\u001b[0mi\u001b[0m\u001b[1;33m]\u001b[0m\u001b[1;33m[\u001b[0m\u001b[0mj\u001b[0m\u001b[1;33m]\u001b[0m\u001b[1;33m,\u001b[0m\u001b[0mdata_2\u001b[0m\u001b[1;33m[\u001b[0m\u001b[0mi\u001b[0m\u001b[1;33m]\u001b[0m\u001b[1;33m[\u001b[0m\u001b[0mj\u001b[0m\u001b[1;33m]\u001b[0m\u001b[1;33m)\u001b[0m\u001b[1;33m)\u001b[0m\u001b[1;33m:\u001b[0m\u001b[1;33m\u001b[0m\u001b[1;33m\u001b[0m\u001b[0m\n\u001b[0m\u001b[0;32m      9\u001b[0m             \u001b[0mprint\u001b[0m\u001b[1;33m(\u001b[0m\u001b[1;34m\"Eqaual\"\u001b[0m\u001b[1;33m)\u001b[0m\u001b[1;33m\u001b[0m\u001b[1;33m\u001b[0m\u001b[0m\n\u001b[0;32m     10\u001b[0m         \u001b[1;32melse\u001b[0m\u001b[1;33m:\u001b[0m\u001b[1;33m\u001b[0m\u001b[1;33m\u001b[0m\u001b[0m\n",
      "\u001b[1;31mNameError\u001b[0m: name 'aresame' is not defined"
     ]
    }
   ],
   "source": [
    "image2=Image.fromarray(data)\n",
    "row=len(data)\n",
    "col=len(data[0])\n",
    "res = []\n",
    "\n",
    "\n",
    "for i in range (row):\n",
    "    for j in range(col):\n",
    "        if(data_1[i][j]!=data_2[i][j]):\n",
    "            if(data_1[i][j]!=data_3[i][j]):\n",
    "                if(data_1[i][j]!=data_4[i][j]):\n",
    "                    print(i)\n",
    "                \n",
    "        else:\n",
    "            if(data_1[i][j]!=data_3[i][j]):\n",
    "                   res.append({i,600-j})\n",
    "                if(data_1[i][j]!=data_3[i][j]):\n",
    "            \n",
    "           \n",
    "        "
   ]
  },
  {
   "cell_type": "code",
   "execution_count": 93,
   "metadata": {},
   "outputs": [
    {
     "name": "stdout",
     "output_type": "stream",
     "text": [
      " 599  799\n"
     ]
    }
   ],
   "source": [
    "print(\" \" + str(i) + \"  \" + str(j))"
   ]
  },
  {
   "cell_type": "code",
   "execution_count": null,
   "metadata": {},
   "outputs": [],
   "source": []
  }
 ],
 "metadata": {
  "kernelspec": {
   "display_name": "Python 3",
   "language": "python",
   "name": "python3"
  },
  "language_info": {
   "codemirror_mode": {
    "name": "ipython",
    "version": 3
   },
   "file_extension": ".py",
   "mimetype": "text/x-python",
   "name": "python",
   "nbconvert_exporter": "python",
   "pygments_lexer": "ipython3",
   "version": "3.8.3"
  }
 },
 "nbformat": 4,
 "nbformat_minor": 4
}
